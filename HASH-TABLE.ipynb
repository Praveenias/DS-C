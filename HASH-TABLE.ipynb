{
 "cells": [
  {
   "cell_type": "code",
   "execution_count": 13,
   "metadata": {},
   "outputs": [
    {
     "name": "stdout",
     "output_type": "stream",
     "text": [
      "[None, None, None, None, None, None, None, None, None, None, None, None, None, None, None, None, None, None, None, None, 104, None, None, None, None, None, None, None, None, None, None, None, None, None, None, None, 103, None, None, None, None, None, None, None, None, None, None, None, None, None, None, None, None, 101, None, None, None, None, None, None, None, None, None, None, None, None, None, None, None, None, None, None, None, None, None, None, None, None, None, None, None, None, None, None, None, None, None, None, None, None, None, None, None, None, None, None, None, None, None, None]\n",
      "[None, None, None, None, None, None, None, None, None, None, None, None, None, None, None, None, None, None, None, None, 104, None, None, None, None, None, None, None, None, None, None, None, None, None, None, None, None, None, None, None, None, None, None, None, None, None, None, None, None, None, None, None, None, 101, None, None, None, None, None, None, None, None, None, None, None, None, None, None, None, None, None, None, None, None, None, None, None, None, None, None, None, None, None, None, None, None, None, None, None, None, None, None, None, None, None, None, None, None, None, None]\n"
     ]
    }
   ],
   "source": [
    "class HashTable:\n",
    "    def __init__(self):\n",
    "        self.max=100\n",
    "        self.arr=[None for i in range(self.max)]\n",
    "    def hash_fun(self,key):\n",
    "        fun=0\n",
    "        for i in key:\n",
    "            fun+=ord(i)\n",
    "        return fun%100\n",
    "    def __setitem__(self,key,value):\n",
    "        h=self.hash_fun(key)\n",
    "        self.arr[h]=value\n",
    "    def __getitem__(self,key):\n",
    "        h=self.hash_fun(key)\n",
    "        return self.arr[h]\n",
    "    def __delitem__(self,key):\n",
    "        h=self.hash_fun(key)\n",
    "        self.arr[h]=None\n",
    "if __name__=='__main__':\n",
    "    ht=HashTable()\n",
    "    ht[\"parveen\"]=101\n",
    "    ht[\"arul\"]=103\n",
    "    ht[\"hari\"]=104\n",
    "    print(ht.arr)\n",
    "    del ht[\"arul\"]\n",
    "    print(ht.arr)\n",
    "    \n",
    "        "
   ]
  },
  {
   "cell_type": "code",
   "execution_count": 10,
   "metadata": {},
   "outputs": [
    {
     "name": "stdout",
     "output_type": "stream",
     "text": [
      "['__class__', '__delattr__', '__dict__', '__dir__', '__doc__', '__eq__', '__format__', '__ge__', '__getattribute__', '__getitem__', '__gt__', '__hash__', '__init__', '__init_subclass__', '__le__', '__lt__', '__module__', '__ne__', '__new__', '__reduce__', '__reduce_ex__', '__repr__', '__setattr__', '__setitem__', '__sizeof__', '__str__', '__subclasshook__', '__weakref__', 'hash_fun']\n"
     ]
    }
   ],
   "source": [
    "print(dir(HashTable))"
   ]
  },
  {
   "cell_type": "code",
   "execution_count": null,
   "metadata": {},
   "outputs": [],
   "source": []
  }
 ],
 "metadata": {
  "kernelspec": {
   "display_name": "Python 3",
   "language": "python",
   "name": "python3"
  },
  "language_info": {
   "codemirror_mode": {
    "name": "ipython",
    "version": 3
   },
   "file_extension": ".py",
   "mimetype": "text/x-python",
   "name": "python",
   "nbconvert_exporter": "python",
   "pygments_lexer": "ipython3",
   "version": "3.7.6"
  }
 },
 "nbformat": 4,
 "nbformat_minor": 4
}
